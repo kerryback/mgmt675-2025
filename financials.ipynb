{
 "cells": [
  {
   "cell_type": "code",
   "execution_count": 76,
   "metadata": {},
   "outputs": [],
   "source": [
    "import pandas as pd \n",
    "from sqlalchemy import create_engine\n",
    "server = 'rice-sqlcl-db'\n",
    "database = 'SharadarEquity'\n",
    "username = 'stocks'\n",
    "password = '6LAZH1'\n",
    "string = f\"mssql+pymssql://{username}:{password}@{server}/{database}\"\n",
    "conn = create_engine(string).connect() "
   ]
  },
  {
   "cell_type": "code",
   "execution_count": 77,
   "metadata": {},
   "outputs": [],
   "source": [
    "prices = pd.read_csv(\"../sep.csv\")\n",
    "prices = prices[prices.date>=\"2024-04-01\"][[\"ticker\", \"date\", \"close\"]]\n",
    "prices = prices.sort_values(by=[\"ticker\", \"date\"])\n",
    "prices = prices.groupby(\"ticker\").last()"
   ]
  },
  {
   "cell_type": "code",
   "execution_count": 78,
   "metadata": {},
   "outputs": [],
   "source": [
    "financials=\"eps roe roa ros grossmargin netmargin ebitdamargin assetturnover payoutratio de currentratio assets debt equity revenue\".split()"
   ]
  },
  {
   "cell_type": "code",
   "execution_count": 83,
   "metadata": {},
   "outputs": [
    {
     "name": "stderr",
     "output_type": "stream",
     "text": [
      "C:\\Users\\kerry\\AppData\\Local\\Temp\\ipykernel_33116\\914411082.py:4: FutureWarning: The default fill_method='ffill' in SeriesGroupBy.pct_change is deprecated and will be removed in a future version. Either fill in any non-leading NA values prior to calling pct_change or specify 'fill_method=None' to not fill NA values.\n",
      "  df['eps_gr'] = df.groupby(\"ticker\").eps.pct_change()\n"
     ]
    }
   ],
   "source": [
    "df = pd.read_sql(\"select * from fundamentals where dimension='ARY' and reportperiod>='2023-01-01' order by ticker, reportperiod\", conn)\n",
    "df.set_index([\"ticker\", \"reportperiod\"], inplace=True)\n",
    "df = df[df.netinccmn>0]\n",
    "df['eps_gr'] = df.groupby(\"ticker\").eps.pct_change() \n",
    "df['asset_gr'] = df.groupby(\"ticker\").assets.pct_change() \n",
    "df['revenue_gr'] = df.groupby(\"ticker\").revenue.pct_change() \n",
    "df = df.groupby(\"ticker\").last()\n",
    "df[\"netinc_grprof\"] = df.netinccmn / df.gp \n",
    "df = df[financials+[\"eps_gr\", \"asset_gr\", \"revenue_gr\", \"netinc_grprof\"]]\n",
    "df = df.rename(columns={\"ros\": \"ebitmargin\"})\n",
    "df = df.merge(prices[\"close\"], left_index=True, right_index=True, how=\"inner\")\n",
    "df = df.dropna()\n",
    "df[\"lvg\"] = df.assets / df.equity\n",
    "df[\"pe\"] = df.close / df.eps\n",
    "df = df.drop(columns=[\"eps\", \"close\"])"
   ]
  },
  {
   "cell_type": "code",
   "execution_count": 84,
   "metadata": {},
   "outputs": [],
   "source": [
    "tickers = pd.read_sql(\"select * from tickers\", conn, index_col=\"ticker\")\n",
    "tickers = tickers[\"name exchange sector scalerevenue\".split()]\n",
    "df = tickers.merge(df, left_index=True, right_index=True, how=\"inner\")\n",
    "df = df.dropna()\n",
    "df.to_excel(\"financials.xlsx\")"
   ]
  },
  {
   "cell_type": "code",
   "execution_count": 85,
   "metadata": {},
   "outputs": [
    {
     "data": {
      "text/plain": [
       "(1359, 24)"
      ]
     },
     "execution_count": 85,
     "metadata": {},
     "output_type": "execute_result"
    }
   ],
   "source": [
    "df.shape"
   ]
  }
 ],
 "metadata": {
  "kernelspec": {
   "display_name": "Python 3",
   "language": "python",
   "name": "python3"
  },
  "language_info": {
   "codemirror_mode": {
    "name": "ipython",
    "version": 3
   },
   "file_extension": ".py",
   "mimetype": "text/x-python",
   "name": "python",
   "nbconvert_exporter": "python",
   "pygments_lexer": "ipython3",
   "version": "3.13.0"
  }
 },
 "nbformat": 4,
 "nbformat_minor": 2
}
