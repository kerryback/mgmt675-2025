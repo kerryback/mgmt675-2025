{
 "cells": [
  {
   "cell_type": "code",
   "execution_count": 1,
   "metadata": {},
   "outputs": [],
   "source": [
    "import pandas as pd \n",
    "from sqlalchemy import create_engine\n",
    "server = 'rice-sqlcl-db'\n",
    "database = 'SharadarEquity'\n",
    "username = 'stocks'\n",
    "password = '6LAZH1'\n",
    "string = f\"mssql+pymssql://{username}:{password}@{server}/{database}\"\n",
    "conn = create_engine(string).connect() \n",
    "df = pd.read_sql(\"select * from ghz\", conn)\n",
    "df = df.dropna(subset=[\"date\"])"
   ]
  },
  {
   "cell_type": "code",
   "execution_count": 2,
   "metadata": {},
   "outputs": [],
   "source": [
    "prices =pd.read_sql(\"select * from prices where date >= '2020-01-01' and date < '2025-04-16'\", conn)\n",
    "metrics = pd.read_sql(\"select * from metrics where date >= '2020-01-01' and date < '2025-04-16'\", conn)\n",
    "tickers = pd.read_sql(\"select * from tickers\", conn)"
   ]
  },
  {
   "cell_type": "code",
   "execution_count": 3,
   "metadata": {},
   "outputs": [],
   "source": [
    "df = prices.merge(metrics, left_on = [\"date\", \"ticker\"], right_on=[\"date\", \"ticker\"], how=\"inner\")\n",
    "df = df.merge(tickers[[\"ticker\", \"industry\", \"sector\"]], left_on=\"ticker\", right_on=\"ticker\", how=\"inner\")\n",
    "df = df.drop(columns=[\"lastupdated_x\", \"lastupdated_y\"])\n",
    "df = df.rename(columns={\"opn\": \"open\"})\n",
    "df = df.sort_values(by=[\"ticker\", \"date\"])\n",
    "df = df.set_index([\"ticker\", \"date\"])"
   ]
  },
  {
   "cell_type": "code",
   "execution_count": 4,
   "metadata": {},
   "outputs": [],
   "source": [
    "df[\"lag52\"] = df.groupby(\"ticker\", group_keys=False).closeadj.apply(lambda x: x/x.shift(52)-1)\n",
    "df[\"lag26\"] = df.groupby(\"ticker\", group_keys=False).closeadj.apply(lambda x: x/x.shift(26)-1)\n",
    "df[\"lag4\"] = df.groupby(\"ticker\", group_keys=False).closeadj.apply(lambda x: x/x.shift(4)-1)\n",
    "df[\"lag1\"] = df.groupby(\"ticker\", group_keys=False).closeadj.apply(lambda x: x/x.shift(1)-1)\n",
    "df[\"ret\"] = df.groupby(\"ticker\", group_keys=False).closeadj.apply(lambda x: x.shift(-1)/x-1)\n",
    "df = df.reset_index()"
   ]
  },
  {
   "cell_type": "code",
   "execution_count": 5,
   "metadata": {},
   "outputs": [],
   "source": [
    "\n",
    "df2 = df[df.date.astype(str)==\"2021-01-01\"].copy()\n",
    "df2 = df2.dropna()\n",
    "df2[\"rnk\"] = df2.marketcap.rank(ascending=False)\n",
    "df3 = df2[(df2.rnk>1000) & (df2.rnk<=2000)]\n",
    "tick_lst = df3.ticker.to_list()\n",
    "df2 = df[(df.ticker.isin(tick_lst)) & (df.date.astype(str)>=\"2021-01-01\")].dropna()\n",
    "df2.to_csv(\"stocks.csv\")"
   ]
  }
 ],
 "metadata": {
  "kernelspec": {
   "display_name": "Python 3",
   "language": "python",
   "name": "python3"
  },
  "language_info": {
   "codemirror_mode": {
    "name": "ipython",
    "version": 3
   },
   "file_extension": ".py",
   "mimetype": "text/x-python",
   "name": "python",
   "nbconvert_exporter": "python",
   "pygments_lexer": "ipython3",
   "version": "3.13.0"
  }
 },
 "nbformat": 4,
 "nbformat_minor": 2
}
