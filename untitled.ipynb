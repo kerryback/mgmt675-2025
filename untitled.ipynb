{
 "cells": [
  {
   "cell_type": "markdown",
   "metadata": {},
   "source": []
  },
  {
   "cell_type": "code",
   "execution_count": 1,
   "metadata": {},
   "outputs": [
    {
     "data": {
      "text/plain": [
       "6.050000000000001"
      ]
     },
     "execution_count": 1,
     "metadata": {},
     "output_type": "execute_result"
    }
   ],
   "source": [
    "0.5 + 1.2 * 2.0 + (-2.1) * (-1.5)"
   ]
  },
  {
   "cell_type": "code",
   "execution_count": 23,
   "metadata": {},
   "outputs": [
    {
     "name": "stdout",
     "output_type": "stream",
     "text": [
      "Requirement already satisfied: yfinance==0.2.54 in c:\\users\\kerry\\appdata\\local\\programs\\python\\python313\\lib\\site-packages (0.2.54)\n",
      "Requirement already satisfied: pandas>=1.3.0 in c:\\users\\kerry\\appdata\\local\\programs\\python\\python313\\lib\\site-packages (from yfinance==0.2.54) (2.2.3)\n",
      "Requirement already satisfied: numpy>=1.16.5 in c:\\users\\kerry\\appdata\\local\\programs\\python\\python313\\lib\\site-packages (from yfinance==0.2.54) (2.1.3)\n",
      "Requirement already satisfied: requests>=2.31 in c:\\users\\kerry\\appdata\\local\\programs\\python\\python313\\lib\\site-packages (from yfinance==0.2.54) (2.32.3)\n",
      "Requirement already satisfied: multitasking>=0.0.7 in c:\\users\\kerry\\appdata\\local\\programs\\python\\python313\\lib\\site-packages (from yfinance==0.2.54) (0.0.11)\n",
      "Requirement already satisfied: platformdirs>=2.0.0 in c:\\users\\kerry\\appdata\\local\\programs\\python\\python313\\lib\\site-packages (from yfinance==0.2.54) (4.3.6)\n",
      "Requirement already satisfied: pytz>=2022.5 in c:\\users\\kerry\\appdata\\local\\programs\\python\\python313\\lib\\site-packages (from yfinance==0.2.54) (2024.2)\n",
      "Requirement already satisfied: frozendict>=2.3.4 in c:\\users\\kerry\\appdata\\local\\programs\\python\\python313\\lib\\site-packages (from yfinance==0.2.54) (2.4.6)\n",
      "Requirement already satisfied: peewee>=3.16.2 in c:\\users\\kerry\\appdata\\local\\programs\\python\\python313\\lib\\site-packages (from yfinance==0.2.54) (3.17.8)\n",
      "Requirement already satisfied: beautifulsoup4>=4.11.1 in c:\\users\\kerry\\appdata\\local\\programs\\python\\python313\\lib\\site-packages (from yfinance==0.2.54) (4.12.3)\n",
      "Requirement already satisfied: soupsieve>1.2 in c:\\users\\kerry\\appdata\\local\\programs\\python\\python313\\lib\\site-packages (from beautifulsoup4>=4.11.1->yfinance==0.2.54) (2.6)\n",
      "Requirement already satisfied: python-dateutil>=2.8.2 in c:\\users\\kerry\\appdata\\local\\programs\\python\\python313\\lib\\site-packages (from pandas>=1.3.0->yfinance==0.2.54) (2.9.0.post0)\n",
      "Requirement already satisfied: tzdata>=2022.7 in c:\\users\\kerry\\appdata\\local\\programs\\python\\python313\\lib\\site-packages (from pandas>=1.3.0->yfinance==0.2.54) (2024.2)\n",
      "Requirement already satisfied: charset-normalizer<4,>=2 in c:\\users\\kerry\\appdata\\local\\programs\\python\\python313\\lib\\site-packages (from requests>=2.31->yfinance==0.2.54) (3.4.0)\n",
      "Requirement already satisfied: idna<4,>=2.5 in c:\\users\\kerry\\appdata\\local\\programs\\python\\python313\\lib\\site-packages (from requests>=2.31->yfinance==0.2.54) (3.10)\n",
      "Requirement already satisfied: urllib3<3,>=1.21.1 in c:\\users\\kerry\\appdata\\local\\programs\\python\\python313\\lib\\site-packages (from requests>=2.31->yfinance==0.2.54) (2.2.3)\n",
      "Requirement already satisfied: certifi>=2017.4.17 in c:\\users\\kerry\\appdata\\local\\programs\\python\\python313\\lib\\site-packages (from requests>=2.31->yfinance==0.2.54) (2024.8.30)\n",
      "Requirement already satisfied: six>=1.5 in c:\\users\\kerry\\appdata\\local\\programs\\python\\python313\\lib\\site-packages (from python-dateutil>=2.8.2->pandas>=1.3.0->yfinance==0.2.54) (1.16.0)\n",
      "Ticker\n",
      "GLD    0.006294\n",
      "IEF    0.002162\n",
      "IYR    0.008481\n",
      "SPY    0.011624\n",
      "UUP    0.002099\n",
      "dtype: float64\n",
      "Ticker       GLD       IEF       IYR       SPY       UUP\n",
      "Ticker                                                  \n",
      "GLD     0.002034  0.000290  0.000494  0.000206 -0.000363\n",
      "IEF     0.000290  0.000356  0.000268 -0.000023 -0.000043\n",
      "IYR     0.000494  0.000268  0.002563  0.001675 -0.000397\n",
      "SPY     0.000206 -0.000023  0.001675  0.001826 -0.000374\n",
      "UUP    -0.000363 -0.000043 -0.000397 -0.000374  0.000535\n",
      "Ticker\n",
      "GLD    0.351317\n",
      "IEF   -0.461985\n",
      "IYR   -0.372876\n",
      "SPY    1.152209\n",
      "UUP    0.331335\n",
      "dtype: float64\n",
      "done\n"
     ]
    }
   ],
   "source": [
    "# This cell uses yfinance 0.2.54 to download monthly adjusted closing prices for SPY, IEF, GLD, IYR, and UUP,\n",
    "# computes monthly returns as percentage changes, and then calculates the mean returns and covariance matrix.\n",
    "# It also fetches the most recent 3-month average T-bill yield (TB3MS) from FRED and computes the tangency portfolio weights.\n",
    "\n",
    "!pip install yfinance==0.2.54 pandas-datareader\n",
    "import yfinance as yf\n",
    "import pandas as pd\n",
    "import numpy as np\n",
    "from pandas_datareader import data as pdr\n",
    "import datetime\n",
    "\n",
    "# Define ticker symbols\n",
    "tickers = ['SPY', 'IEF', 'GLD', 'IYR', 'UUP']\n",
    "\n",
    "# Download monthly data with auto_adjust True to directly get adjusted prices\n",
    "start_date = '2010-01-01'\n",
    "end_date = datetime.datetime.today().strftime('%Y-%m-%d')\n",
    "df_prices = yf.download(tickers, start=start_date, end=end_date, interval='1mo', auto_adjust=True, progress=False)['Close']\n",
    "\n",
    "# df_prices.dropna(how='all', inplace=True)  # Drop rows if all tickers are missing\n",
    "\n",
    "# Compute monthly returns as percentage change\n",
    "returns = df_prices.pct_change().dropna() #* 100  # returns in percentage\n",
    "\n",
    "# Compute mean returns and covariance matrix from the returns data\n",
    "mean_returns = returns.mean()\n",
    "cov_matrix = returns.cov()\n",
    "\n",
    "# Convert to decimals for portfolio calculation:\n",
    "mean_ret_dec = mean_returns #/ 100\n",
    "cov_matrix_dec = cov_matrix #/ (100**2)\n",
    "rf_dec = 0.04 / 12\n",
    "excess_returns_dec = mean_ret_dec - rf_dec\n",
    "\n",
    "# Compute tangency portfolio weights: \n",
    "# w* = inv(Sigma) * (mu - r_f) / sum( inv(Sigma) * (mu - r_f) )\n",
    "inv_cov = np.linalg.inv(cov_matrix_dec)\n",
    "num = inv_cov.dot(excess_returns_dec)\n",
    "w_tan = num / np.sum(num)\n",
    "tangency_portfolio = pd.Series(w_tan, index=mean_returns.index)\n",
    "print(mean_returns)\n",
    "print(cov_matrix)\n",
    "print(tangency_portfolio)\n",
    "\n",
    "print('done')"
   ]
  },
  {
   "cell_type": "code",
   "execution_count": 1,
   "metadata": {},
   "outputs": [
    {
     "data": {
      "text/plain": [
       "'1.44.1'"
      ]
     },
     "execution_count": 1,
     "metadata": {},
     "output_type": "execute_result"
    }
   ],
   "source": [
    "import streamlit as st \n",
    "st.__version__"
   ]
  },
  {
   "cell_type": "markdown",
   "metadata": {},
   "source": [
    "## Local installation\n",
    "\n",
    "- install python from python.org IMPORTANT: check add to path on first screen \n",
    "- install vs code\n",
    "- install vs code extensions: python, jupyter, data wrangler, github copilot\n",
    "- terminal: pip install numpy pandas statsmodels scipy matplotlib seaborn jupyter scikit-learn pandas-datareader yfinance==0.2.54\n",
    "- open notebook and execute np.sqrt\n",
    "\n",
    "## Github, github-copilot, and cursor\n",
    "\n",
    "- github account\n",
    "- activate copilot\n",
    "- demonstration of copilot chat and code completion\n",
    "- create cursor account and install cursor\n",
    "- install cursor extensions \n",
    "- demo CTRL-K, CTRL-L and code completion\n",
    "\n",
    "## Streamlit \n",
    "\n",
    "- install git CLI \n",
    "- create github repo with readme \n",
    "- vs code terminal: git clone \n",
    "- ask Julius to create streamlit app \n",
    "- download to local folder\n",
    "- git add, commit, push\n",
    "- streamlit run app.py\n",
    "- deploy to streamlit cloud\n",
    "\n",
    "## Docker\n",
    "\n",
    "- install docker desktop\n",
    "- "
   ]
  },
  {
   "cell_type": "code",
   "execution_count": 21,
   "metadata": {},
   "outputs": [
    {
     "data": {
      "text/plain": [
       "Ticker\n",
       "GLD    0.005894\n",
       "IEF    0.001762\n",
       "IYR    0.008081\n",
       "SPY    0.011224\n",
       "UUP    0.001699\n",
       "dtype: float64"
      ]
     },
     "execution_count": 21,
     "metadata": {},
     "output_type": "execute_result"
    }
   ],
   "source": [
    "excess_returns_dec"
   ]
  },
  {
   "cell_type": "code",
   "execution_count": 18,
   "metadata": {},
   "outputs": [
    {
     "data": {
      "text/plain": [
       "array([ 3.76501007,  7.76128321, -4.86540831, 12.66639282, 11.61165418])"
      ]
     },
     "execution_count": 18,
     "metadata": {},
     "output_type": "execute_result"
    }
   ],
   "source": [
    "num"
   ]
  },
  {
   "cell_type": "code",
   "execution_count": 20,
   "metadata": {},
   "outputs": [
    {
     "data": {
      "text/plain": [
       "SPY    0.008290\n",
       "IEF   -0.001171\n",
       "GLD    0.002960\n",
       "IYR    0.005148\n",
       "UUP   -0.001234\n",
       "dtype: float64"
      ]
     },
     "execution_count": 20,
     "metadata": {},
     "output_type": "execute_result"
    }
   ],
   "source": [
    "excess_returns "
   ]
  },
  {
   "cell_type": "code",
   "execution_count": 15,
   "metadata": {},
   "outputs": [
    {
     "name": "stderr",
     "output_type": "stream",
     "text": [
      "[*********************100%***********************]  1 of 1 completed\n",
      "[*********************100%***********************]  1 of 1 completed\n",
      "[*********************100%***********************]  1 of 1 completed\n",
      "[*********************100%***********************]  1 of 1 completed\n",
      "[*********************100%***********************]  1 of 1 completed"
     ]
    },
    {
     "name": "stdout",
     "output_type": "stream",
     "text": [
      "Mean Monthly Returns:\n",
      "SPY    0.011624\n",
      "IEF    0.002162\n",
      "GLD    0.006294\n",
      "IYR    0.008481\n",
      "UUP    0.002099\n",
      "dtype: float64\n",
      "Covariance Matrix:\n",
      "          SPY       IEF       GLD       IYR       UUP\n",
      "SPY  0.001826 -0.000023  0.000206  0.001675 -0.000374\n",
      "IEF -0.000023  0.000356  0.000290  0.000268 -0.000043\n",
      "GLD  0.000206  0.000290  0.002034  0.000494 -0.000363\n",
      "IYR  0.001675  0.000268  0.000494  0.002563 -0.000397\n",
      "UUP -0.000374 -0.000043 -0.000363 -0.000397  0.000535\n",
      "Risk-free rate (monthly): 0.0033333333333333335\n",
      "Optimal Portfolio Weights:\n",
      "SPY: 1.1522\n",
      "IEF: -0.4620\n",
      "GLD: 0.3513\n",
      "IYR: -0.3729\n",
      "UUP: 0.3313\n",
      "Portfolio Statistics (monthly):\n",
      "Expected Return: 0.0121\n",
      "Volatility: 0.0391\n",
      "Sharpe Ratio: 0.2253\n"
     ]
    },
    {
     "name": "stderr",
     "output_type": "stream",
     "text": [
      "\n"
     ]
    }
   ],
   "source": [
    "# Get monthly data and compute returns\n",
    "import yfinance as yf\n",
    "import pandas as pd\n",
    "import numpy as np\n",
    "from pandas_datareader import data as pdr\n",
    "import datetime\n",
    "\n",
    "# Download monthly data\n",
    "tickers = ['SPY', 'IEF', 'GLD', 'IYR', 'UUP']\n",
    "data = pd.DataFrame()\n",
    "\n",
    "for ticker in tickers:\n",
    "    temp = yf.download(ticker, start='2010-01-01', end=datetime.datetime.now(), interval='1mo')['Close']\n",
    "    data[ticker] = temp\n",
    "\n",
    "# Calculate returns\n",
    "returns = data.pct_change().dropna()\n",
    "\n",
    "# Calculate mean returns and covariance matrix\n",
    "mean_returns = returns.mean()\n",
    "cov_matrix = returns.cov()\n",
    "\n",
    "print(\"Mean Monthly Returns:\")\n",
    "print(mean_returns)\n",
    "print(\"\\\n",
    "Covariance Matrix:\")\n",
    "print(cov_matrix)\n",
    "\n",
    "rf_monthly = 0.04 / 12  # Convert annual rate to monthly\n",
    "\n",
    "# Calculate excess returns\n",
    "excess_returns = mean_returns - rf_monthly\n",
    "\n",
    "# Calculate optimal weights\n",
    "inv_cov = np.linalg.inv(cov_matrix)\n",
    "weights2 = inv_cov.dot(excess_returns)\n",
    "weights = weights2 / np.sum(weights2)\n",
    "\n",
    "print(\"Risk-free rate (monthly):\", rf_monthly)\n",
    "print(\"\\\n",
    "Optimal Portfolio Weights:\")\n",
    "for ticker, weight in zip(tickers, weights):\n",
    "    print(f\"{ticker}: {weight:.4f}\")\n",
    "print(\"\\\n",
    "Portfolio Statistics (monthly):\")\n",
    "print(f\"Expected Return: {port_return:.4f}\")\n",
    "print(f\"Volatility: {port_vol:.4f}\")\n",
    "print(f\"Sharpe Ratio: {sharpe:.4f}\")"
   ]
  },
  {
   "cell_type": "code",
   "execution_count": 16,
   "metadata": {},
   "outputs": [
    {
     "data": {
      "text/plain": [
       "SPY    1.152198\n",
       "IEF   -0.461966\n",
       "GLD    0.351311\n",
       "IYR   -0.372874\n",
       "UUP    0.331332\n",
       "dtype: float64"
      ]
     },
     "execution_count": 16,
     "metadata": {},
     "output_type": "execute_result"
    }
   ],
   "source": [
    "pd.Series(weights, index=excess_returns.index)"
   ]
  },
  {
   "cell_type": "code",
   "execution_count": 9,
   "metadata": {},
   "outputs": [
    {
     "data": {
      "text/plain": [
       "datetime.datetime(2025, 3, 18, 14, 31, 0, 494364)"
      ]
     },
     "execution_count": 9,
     "metadata": {},
     "output_type": "execute_result"
    }
   ],
   "source": [
    "datetime.datetime.now()"
   ]
  }
 ],
 "metadata": {
  "kernelspec": {
   "display_name": "Python 3",
   "language": "python",
   "name": "python3"
  },
  "language_info": {
   "codemirror_mode": {
    "name": "ipython",
    "version": 3
   },
   "file_extension": ".py",
   "mimetype": "text/x-python",
   "name": "python",
   "nbconvert_exporter": "python",
   "pygments_lexer": "ipython3",
   "version": "3.13.0"
  }
 },
 "nbformat": 4,
 "nbformat_minor": 2
}
