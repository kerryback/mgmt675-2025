{
 "cells": [
  {
   "cell_type": "markdown",
   "metadata": {},
   "source": []
  },
  {
   "cell_type": "code",
   "execution_count": 110,
   "metadata": {},
   "outputs": [],
   "source": [
    "import pandas as pd \n",
    "roster = pd.read_csv(\"roster.csv\", skiprows=2, usecols=[0])\n",
    "roster = roster[\"Name\"].iloc[:-1].to_list()\n",
    "roster = [x.split(\", \")[1] + \" \" + x.split(\", \")[0] for x in roster if len(x.split(\", \")) >1]\n",
    "groups = pd.read_csv(\"groups.csv\", index_col=0).iloc[:-1]\n",
    "dct = dict(zip([\"William Matheson\", \"Luis Tejo Torres\", \"Sam Conway \"], [\"Will Matheson\", \"Luis Trejo Torres\", \"Sam Conway\"]))\n",
    "lst = []\n",
    "def mapping(x) :\n",
    "    if x in dct.keys():\n",
    "        return dct[x]\n",
    "    else:\n",
    "        return x\n",
    "\n",
    "for col in groups.columns:\n",
    "    groups[col] = groups[col].map(mapping)\n",
    "    lst = lst + groups[col].dropna().to_list()\n",
    "\n"
   ]
  },
  {
   "cell_type": "code",
   "execution_count": 111,
   "metadata": {},
   "outputs": [
    {
     "data": {
      "text/plain": [
       "['Connor Barr',\n",
       " 'Lydia Brantley',\n",
       " 'Alejandro Gonzalez Sanchez',\n",
       " 'Filipe Reis',\n",
       " 'Kyle Zarosky']"
      ]
     },
     "execution_count": 111,
     "metadata": {},
     "output_type": "execute_result"
    }
   ],
   "source": [
    "roster.remove(\"William Ostdiek\")\n",
    "roster.append(\"Will Ostdiek\")\n",
    "roster.remove(\"Christopher Pham\")\n",
    "roster.append(\"Chris Pham\")\n",
    "roster.remove(\"Paula Gonzalez Gago\")\n",
    "roster.append(\"Paula Gonzalez\")\n",
    "roster.remove(\"Jose Vázquez Velarde\")\n",
    "roster.append(\"Jose Vazquez\")\n",
    "roster.remove(\"Joshua Walker\")\n",
    "roster.append(\"Josh Walker\")\n",
    "[x for x in roster if x not in lst]\n"
   ]
  },
  {
   "cell_type": "code",
   "execution_count": 112,
   "metadata": {},
   "outputs": [
    {
     "data": {
      "text/plain": [
       "['Flores',\n",
       " 'Ghosh',\n",
       " 'Searose-Xu',\n",
       " 'Fields',\n",
       " 'Lhamo',\n",
       " 'Wu',\n",
       " 'McClure',\n",
       " 'Towner',\n",
       " 'Moursy',\n",
       " 'Civelek',\n",
       " 'Ladas']"
      ]
     },
     "execution_count": 112,
     "metadata": {},
     "output_type": "execute_result"
    }
   ],
   "source": [
    "groups.index = [x.split()[-1] if x != \"John McClure Jr\" else \"McClure\" for x in groups[\"Member 1\"]]\n",
    "groups.index.name = \"Group Name\"\n",
    "group_names = groups.index.to_list()\n",
    "group_names\n"
   ]
  },
  {
   "cell_type": "code",
   "execution_count": 113,
   "metadata": {},
   "outputs": [],
   "source": [
    "rooms1 = pd.read_csv(\"rooms.csv\", nrows=12)\n",
    "rooms2 = pd.read_csv(\"rooms.csv\", skiprows=14, nrows=12)\n",
    "rooms = pd.concat([rooms1, rooms2], axis=1)\n",
    "rooms = rooms.drop(columns=[\"27-Mar\"])"
   ]
  },
  {
   "cell_type": "code",
   "execution_count": 114,
   "metadata": {},
   "outputs": [],
   "source": [
    "dct = {key: rooms[key].to_list() for key in rooms.columns}\n",
    "for key in dct.keys():\n",
    "    if \"406\" in dct[key]:\n",
    "        dct[key].remove(\"406\")\n",
    "    else:\n",
    "        dct[key].remove(\"400\")\n",
    "\n",
    "import random\n",
    "for key in dct.keys():\n",
    "    random.shuffle(dct[key])\n"
   ]
  },
  {
   "cell_type": "code",
   "execution_count": 115,
   "metadata": {},
   "outputs": [
    {
     "data": {
      "text/html": [
       "<div>\n",
       "<style scoped>\n",
       "    .dataframe tbody tr th:only-of-type {\n",
       "        vertical-align: middle;\n",
       "    }\n",
       "\n",
       "    .dataframe tbody tr th {\n",
       "        vertical-align: top;\n",
       "    }\n",
       "\n",
       "    .dataframe thead th {\n",
       "        text-align: right;\n",
       "    }\n",
       "</style>\n",
       "<table border=\"1\" class=\"dataframe\">\n",
       "  <thead>\n",
       "    <tr style=\"text-align: right;\">\n",
       "      <th></th>\n",
       "      <th>20-Mar</th>\n",
       "      <th>25-Mar</th>\n",
       "      <th>1-Apr</th>\n",
       "      <th>10-Apr</th>\n",
       "      <th>17-Apr</th>\n",
       "    </tr>\n",
       "    <tr>\n",
       "      <th>Group Name</th>\n",
       "      <th></th>\n",
       "      <th></th>\n",
       "      <th></th>\n",
       "      <th></th>\n",
       "      <th></th>\n",
       "    </tr>\n",
       "  </thead>\n",
       "  <tbody>\n",
       "    <tr>\n",
       "      <th>Flores</th>\n",
       "      <td>409</td>\n",
       "      <td>313C</td>\n",
       "      <td>400</td>\n",
       "      <td>313F</td>\n",
       "      <td>313D</td>\n",
       "    </tr>\n",
       "    <tr>\n",
       "      <th>Ghosh</th>\n",
       "      <td>408</td>\n",
       "      <td>407</td>\n",
       "      <td>313C</td>\n",
       "      <td>213F</td>\n",
       "      <td>213F</td>\n",
       "    </tr>\n",
       "    <tr>\n",
       "      <th>Searose-Xu</th>\n",
       "      <td>313E</td>\n",
       "      <td>400</td>\n",
       "      <td>213F</td>\n",
       "      <td>407</td>\n",
       "      <td>313C</td>\n",
       "    </tr>\n",
       "    <tr>\n",
       "      <th>Fields</th>\n",
       "      <td>313B</td>\n",
       "      <td>313A</td>\n",
       "      <td>409</td>\n",
       "      <td>313D</td>\n",
       "      <td>409</td>\n",
       "    </tr>\n",
       "    <tr>\n",
       "      <th>Lhamo</th>\n",
       "      <td>410</td>\n",
       "      <td>313E</td>\n",
       "      <td>313D</td>\n",
       "      <td>313B</td>\n",
       "      <td>407</td>\n",
       "    </tr>\n",
       "    <tr>\n",
       "      <th>Wu</th>\n",
       "      <td>213F</td>\n",
       "      <td>409</td>\n",
       "      <td>313F</td>\n",
       "      <td>313E</td>\n",
       "      <td>313B</td>\n",
       "    </tr>\n",
       "    <tr>\n",
       "      <th>McClure</th>\n",
       "      <td>407</td>\n",
       "      <td>313F</td>\n",
       "      <td>407</td>\n",
       "      <td>313C</td>\n",
       "      <td>408</td>\n",
       "    </tr>\n",
       "    <tr>\n",
       "      <th>Towner</th>\n",
       "      <td>313A</td>\n",
       "      <td>313D</td>\n",
       "      <td>408</td>\n",
       "      <td>410</td>\n",
       "      <td>313A</td>\n",
       "    </tr>\n",
       "    <tr>\n",
       "      <th>Moursy</th>\n",
       "      <td>313D</td>\n",
       "      <td>213F</td>\n",
       "      <td>313A</td>\n",
       "      <td>409</td>\n",
       "      <td>410</td>\n",
       "    </tr>\n",
       "    <tr>\n",
       "      <th>Civelek</th>\n",
       "      <td>400</td>\n",
       "      <td>408</td>\n",
       "      <td>313B</td>\n",
       "      <td>408</td>\n",
       "      <td>313F</td>\n",
       "    </tr>\n",
       "    <tr>\n",
       "      <th>Ladas</th>\n",
       "      <td>313F</td>\n",
       "      <td>313B</td>\n",
       "      <td>313E</td>\n",
       "      <td>313A</td>\n",
       "      <td>313E</td>\n",
       "    </tr>\n",
       "  </tbody>\n",
       "</table>\n",
       "</div>"
      ],
      "text/plain": [
       "           20-Mar 25-Mar 1-Apr 10-Apr 17-Apr\n",
       "Group Name                                  \n",
       "Flores        409   313C   400   313F   313D\n",
       "Ghosh         408    407  313C   213F   213F\n",
       "Searose-Xu   313E    400  213F    407   313C\n",
       "Fields       313B   313A   409   313D    409\n",
       "Lhamo         410   313E  313D   313B    407\n",
       "Wu           213F    409  313F   313E   313B\n",
       "McClure       407   313F   407   313C    408\n",
       "Towner       313A   313D   408    410   313A\n",
       "Moursy       313D   213F  313A    409    410\n",
       "Civelek       400    408  313B    408   313F\n",
       "Ladas        313F   313B  313E   313A   313E"
      ]
     },
     "execution_count": 115,
     "metadata": {},
     "output_type": "execute_result"
    }
   ],
   "source": [
    "dates = [\n",
    "    \"20-Mar\",\n",
    "    \"25-Mar\",\n",
    "    \"1-Apr\",\n",
    "    \"10-Apr\",\n",
    "    \"17-Apr\",\n",
    "]\n",
    "dct = {key: dct[key] for key in dates}\n",
    "df = pd.DataFrame(dct)\n",
    "df.index = group_names\n",
    "df.index.name = \"Group Name\"\n",
    "df\n"
   ]
  },
  {
   "cell_type": "code",
   "execution_count": 116,
   "metadata": {},
   "outputs": [],
   "source": [
    "df.to_csv(\"breakout_schedule.csv\")\n"
   ]
  },
  {
   "cell_type": "markdown",
   "metadata": {},
   "source": [
    "## Local installation\n",
    "\n",
    "- install python from python.org IMPORTANT: check add to path on first screen \n",
    "- install vs code\n",
    "- install vs code extensions: python, jupyter, data wrangler, github copilot\n",
    "- terminal: pip install numpy pandas statsmodels scipy matplotlib seaborn jupyter scikit-learn pandas-datareader yfinance==0.2.54\n",
    "- open notebook and execute np.sqrt\n",
    "\n",
    "## Github, github-copilot, and cursor\n",
    "\n",
    "- github account\n",
    "- activate copilot\n",
    "- demonstration of copilot chat and code completion\n",
    "- create cursor account and install cursor\n",
    "- install cursor extensions \n",
    "- demo CTRL-K, CTRL-L and code completion\n",
    "\n",
    "## Streamlit \n",
    "\n",
    "- install git CLI \n",
    "- create github repo with readme \n",
    "- vs code terminal: git clone \n",
    "- ask Julius to create streamlit app \n",
    "- download to local folder\n",
    "- git add, commit, push\n",
    "- streamlit run app.py\n",
    "- deploy to streamlit cloud\n",
    "\n",
    "## Docker\n",
    "\n",
    "- install docker desktop\n",
    "- "
   ]
  }
 ],
 "metadata": {
  "kernelspec": {
   "display_name": "Python 3",
   "language": "python",
   "name": "python3"
  },
  "language_info": {
   "codemirror_mode": {
    "name": "ipython",
    "version": 3
   },
   "file_extension": ".py",
   "mimetype": "text/x-python",
   "name": "python",
   "nbconvert_exporter": "python",
   "pygments_lexer": "ipython3",
   "version": "3.13.0"
  }
 },
 "nbformat": 4,
 "nbformat_minor": 2
}
